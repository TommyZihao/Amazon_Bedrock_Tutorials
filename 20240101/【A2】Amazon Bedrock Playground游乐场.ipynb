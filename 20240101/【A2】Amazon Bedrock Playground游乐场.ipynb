{
 "cells": [
  {
   "cell_type": "markdown",
   "id": "445ad7a4-5b4a-40d7-a748-8b3fe912d692",
   "metadata": {},
   "source": [
    "# Amazon Bedrock Playground游乐场\n",
    "\n",
    "https://us-east-1.console.aws.amazon.com/bedrock/home?region=us-east-1#/chat-playground"
   ]
  },
  {
   "cell_type": "code",
   "execution_count": null,
   "id": "6026488d-8a4d-4c15-b42b-3bd38ec8b54a",
   "metadata": {},
   "outputs": [],
   "source": []
  }
 ],
 "metadata": {
  "kernelspec": {
   "display_name": "Python 3 (ipykernel)",
   "language": "python",
   "name": "python3"
  },
  "language_info": {
   "codemirror_mode": {
    "name": "ipython",
    "version": 3
   },
   "file_extension": ".py",
   "mimetype": "text/x-python",
   "name": "python",
   "nbconvert_exporter": "python",
   "pygments_lexer": "ipython3",
   "version": "3.7.10"
  }
 },
 "nbformat": 4,
 "nbformat_minor": 5
}
