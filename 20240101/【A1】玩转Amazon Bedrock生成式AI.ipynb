{
 "cells": [
  {
   "cell_type": "markdown",
   "id": "547524bf-6d8c-4b2c-88ba-5451d59adbd8",
   "metadata": {},
   "source": [
    "# 玩转Amazon Bedrock生成式AI\n",
    "\n",
    "同济子豪兄 2024-1-1"
   ]
  },
  {
   "cell_type": "markdown",
   "id": "22dd7615-dea1-4ded-855d-af5900c64309",
   "metadata": {},
   "source": [
    "## 关于本教程\n",
    "\n",
    "视频：https://space.bilibili.com/1900783\n",
    "\n",
    "代码：https://github.com/TommyZihao/Amazon_Bedrock_Tutorials\n",
    "\n",
    "作者：张子豪，B站UP主“同济子豪兄”。长期从事人工智能、深度学习、计算机视觉的科普教育工作，中国图象图形学学会-科普与教育工作委员会委员。代表作：精读AI论文、斯坦福CS231N计算机视觉中文精讲、CS224W图神经网络中文精讲、“两天搞定图像分类、目标检测、图像分割、关键点检测毕业设计”、可解释机器学习公开课、OpenMMLab代码实战。"
   ]
  },
  {
   "cell_type": "markdown",
   "id": "122b300d-8fa9-4bc7-b701-d04214830148",
   "metadata": {},
   "source": [
    "## 官方文档\n",
    "\n",
    "Amazon Bedrock主页：https://aws.amazon.com/cn/bedrock\n",
    "\n",
    "Amazon Bedrock用户手册：https://docs.aws.amazon.com/bedrock\n",
    "\n",
    "Amazon Bedrock定价：https://aws.amazon.com/cn/bedrock/pricing\n",
    "\n",
    "boto3文档：https://boto3.amazonaws.com/v1/documentation/api/latest/index.html"
   ]
  },
  {
   "cell_type": "code",
   "execution_count": null,
   "id": "4613c7de-cba8-4075-af19-077880802424",
   "metadata": {},
   "outputs": [],
   "source": []
  }
 ],
 "metadata": {
  "kernelspec": {
   "display_name": "Python 3 (ipykernel)",
   "language": "python",
   "name": "python3"
  },
  "language_info": {
   "codemirror_mode": {
    "name": "ipython",
    "version": 3
   },
   "file_extension": ".py",
   "mimetype": "text/x-python",
   "name": "python",
   "nbconvert_exporter": "python",
   "pygments_lexer": "ipython3",
   "version": "3.7.10"
  }
 },
 "nbformat": 4,
 "nbformat_minor": 5
}
