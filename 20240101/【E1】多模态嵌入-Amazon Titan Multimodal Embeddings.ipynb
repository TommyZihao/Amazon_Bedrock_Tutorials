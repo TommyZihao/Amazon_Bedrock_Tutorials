{
 "cells": [
  {
   "cell_type": "markdown",
   "id": "792c0f0a-e5dc-4d7c-8cba-a40d4c96e96d",
   "metadata": {},
   "source": [
    "# 多模态嵌入-Amazon Titan Multimodal Embeddings\n",
    "\n",
    "同济子豪兄 2024-1-1"
   ]
  },
  {
   "cell_type": "markdown",
   "id": "99eb36d0-db40-4395-a1e0-6888f4faf015",
   "metadata": {},
   "source": [
    "## 官方文档\n",
    "\n",
    "https://docs.aws.amazon.com/bedrock/latest/userguide/titan-embedding-models.html"
   ]
  },
  {
   "cell_type": "markdown",
   "id": "32f64ced-ff46-4e2e-9350-fcaefaf09365",
   "metadata": {},
   "source": [
    "## 导入工具包"
   ]
  },
  {
   "cell_type": "code",
   "execution_count": 12,
   "id": "32df5782-e073-4011-86a6-c16b370c188a",
   "metadata": {},
   "outputs": [],
   "source": [
    "# Python 标准库\n",
    "import json\n",
    "\n",
    "# AWS 服务\n",
    "import boto3\n",
    "from botocore.config import Config\n",
    "\n",
    "# 图像处理\n",
    "from PIL import Image\n",
    "import base64\n",
    "\n",
    "import numpy as np"
   ]
  },
  {
   "cell_type": "markdown",
   "id": "df36a6bd-6373-410f-8db2-7d44a3e43398",
   "metadata": {},
   "source": [
    "## 指定AWS Key\n",
    "\n",
    "注册AWS IAM账号时生成的秘钥，需要换成你自己的"
   ]
  },
  {
   "cell_type": "code",
   "execution_count": 2,
   "id": "9e19fc38-f5ba-4307-9101-832d685c4ffb",
   "metadata": {},
   "outputs": [],
   "source": [
    "aws_access_key_id = 'XXXXXXX'\n",
    "aws_secret_access_key = 'XXXXXXX'"
   ]
  },
  {
   "cell_type": "markdown",
   "id": "ab08c75f-069e-4345-bdf7-785d66f28740",
   "metadata": {},
   "source": [
    "## 指定AWS区域\n",
    "\n",
    "默认使用`美国东部（弗吉尼亚北部）`，也就是`us-east-1`"
   ]
  },
  {
   "cell_type": "code",
   "execution_count": 3,
   "id": "c386e999-7581-4152-b737-ff1dcc736205",
   "metadata": {},
   "outputs": [],
   "source": [
    "aws_config = Config(\n",
    "    region_name='us-east-1',\n",
    "    proxies={},\n",
    ")"
   ]
  },
  {
   "cell_type": "markdown",
   "id": "5c2e1019-a45c-43e9-8224-07a97bc26dd3",
   "metadata": {},
   "source": [
    "## 创建Bedrock Client"
   ]
  },
  {
   "cell_type": "code",
   "execution_count": 4,
   "id": "2ffb57dd-35f4-4b71-abd9-5bef8b8f03a6",
   "metadata": {},
   "outputs": [
    {
     "name": "stderr",
     "output_type": "stream",
     "text": [
      "/environment/miniconda3/lib/python3.7/site-packages/boto3/compat.py:82: PythonDeprecationWarning: Boto3 will no longer support Python 3.7 starting December 13, 2023. To continue receiving service updates, bug fixes, and security updates please upgrade to Python 3.8 or later. More information can be found here: https://aws.amazon.com/blogs/developer/python-support-policy-updates-for-aws-sdks-and-tools/\n",
      "  warnings.warn(warning, PythonDeprecationWarning)\n"
     ]
    }
   ],
   "source": [
    "bedrock_runtime = boto3.client(\n",
    "    service_name='bedrock-runtime',\n",
    "    aws_access_key_id=aws_access_key_id,\n",
    "    aws_secret_access_key=aws_secret_access_key,\n",
    "    config=aws_config,\n",
    ")"
   ]
  },
  {
   "cell_type": "markdown",
   "id": "29a2bb15-8766-4e0d-8594-8f50d70e4598",
   "metadata": {},
   "source": [
    "## 选择基座模型"
   ]
  },
  {
   "cell_type": "code",
   "execution_count": 5,
   "id": "d96b16ad-ddc0-4e5d-885d-041b9fc73b75",
   "metadata": {},
   "outputs": [],
   "source": [
    "modelId = 'amazon.titan-embed-image-v1'"
   ]
  },
  {
   "cell_type": "markdown",
   "id": "c81ca6b8-31ac-4143-a0a5-151f3d279624",
   "metadata": {},
   "source": [
    "## 输入多模态数据（图像+文本）"
   ]
  },
  {
   "cell_type": "code",
   "execution_count": 7,
   "id": "5a5107b9-4c77-4016-a190-791abb22bb6f",
   "metadata": {},
   "outputs": [],
   "source": [
    "with open('outputs/C2_basketball.jpg', \"rb\") as image_file:\n",
    "    input_image = base64.b64encode(image_file.read()).decode('utf8')\n",
    "\n",
    "# 输入文本或图片\n",
    "body = json.dumps(\n",
    "    {\n",
    "        \"inputText\": \"Basketball\",\n",
    "        \"inputImage\": input_image\n",
    "    }\n",
    ")"
   ]
  },
  {
   "cell_type": "markdown",
   "id": "a7dd3e4c-cdc5-4804-aaae-8d279685644a",
   "metadata": {},
   "source": [
    "## 调用Amazon Bedrock基础模型API，输入多模态嵌入模型推理预测"
   ]
  },
  {
   "cell_type": "code",
   "execution_count": 11,
   "id": "43bcd3d2-c568-48a0-b247-572fa3ed0227",
   "metadata": {},
   "outputs": [],
   "source": [
    "response = bedrock_runtime.invoke_model(\n",
    "    body=body, \n",
    "    modelId=modelId, \n",
    "    accept=\"application/json\", \n",
    "    contentType=\"application/json\"\n",
    ")\n",
    "\n",
    "response_body = json.loads(response.get(\"body\").read())"
   ]
  },
  {
   "cell_type": "markdown",
   "id": "164d5cd3-828d-4320-8abe-a16cd0e81339",
   "metadata": {},
   "source": [
    "## 查看Embedding向量"
   ]
  },
  {
   "cell_type": "code",
   "execution_count": 13,
   "id": "6794e0a4-5409-44a6-92f6-c08dafeffd80",
   "metadata": {},
   "outputs": [],
   "source": [
    "vector = np.array(response_body.get(\"embedding\"))"
   ]
  },
  {
   "cell_type": "code",
   "execution_count": 16,
   "id": "0cacc707-eeb2-4873-9f84-535402c39ca1",
   "metadata": {},
   "outputs": [
    {
     "data": {
      "text/plain": [
       "(1024,)"
      ]
     },
     "execution_count": 16,
     "metadata": {},
     "output_type": "execute_result"
    }
   ],
   "source": [
    "vector.shape"
   ]
  },
  {
   "cell_type": "code",
   "execution_count": 17,
   "id": "c6a987f3-38bf-4faa-a953-52e5835cf8e8",
   "metadata": {},
   "outputs": [
    {
     "data": {
      "text/plain": [
       "array([ 0.03842552,  0.02807901, -0.00886022, ...,  0.0023356 ,\n",
       "        0.01676113,  0.00093588])"
      ]
     },
     "execution_count": 17,
     "metadata": {},
     "output_type": "execute_result"
    }
   ],
   "source": [
    "vector"
   ]
  },
  {
   "cell_type": "code",
   "execution_count": null,
   "id": "3b0b78a3-9403-4eda-92b0-25a3efa0cbd4",
   "metadata": {},
   "outputs": [],
   "source": []
  }
 ],
 "metadata": {
  "kernelspec": {
   "display_name": "Python 3 (ipykernel)",
   "language": "python",
   "name": "python3"
  },
  "language_info": {
   "codemirror_mode": {
    "name": "ipython",
    "version": 3
   },
   "file_extension": ".py",
   "mimetype": "text/x-python",
   "name": "python",
   "nbconvert_exporter": "python",
   "pygments_lexer": "ipython3",
   "version": "3.7.10"
  }
 },
 "nbformat": 4,
 "nbformat_minor": 5
}
