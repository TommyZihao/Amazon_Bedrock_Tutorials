{
 "cells": [
  {
   "cell_type": "markdown",
   "id": "792c0f0a-e5dc-4d7c-8cba-a40d4c96e96d",
   "metadata": {},
   "source": [
    "# 大语言模型-Llama2-70B\n",
    "\n",
    "同济子豪兄 2024-1-1"
   ]
  },
  {
   "cell_type": "markdown",
   "id": "99eb36d0-db40-4395-a1e0-6888f4faf015",
   "metadata": {},
   "source": [
    "## 官方文档\n",
    "\n",
    "https://docs.aws.amazon.com/bedrock/latest/userguide/titan-text-models.html"
   ]
  },
  {
   "cell_type": "markdown",
   "id": "32f64ced-ff46-4e2e-9350-fcaefaf09365",
   "metadata": {},
   "source": [
    "## 导入工具包"
   ]
  },
  {
   "cell_type": "code",
   "execution_count": 1,
   "id": "32df5782-e073-4011-86a6-c16b370c188a",
   "metadata": {},
   "outputs": [],
   "source": [
    "# Python 标准库\n",
    "import json\n",
    "\n",
    "# AWS 服务\n",
    "import boto3\n",
    "from botocore.config import Config"
   ]
  },
  {
   "cell_type": "markdown",
   "id": "df36a6bd-6373-410f-8db2-7d44a3e43398",
   "metadata": {},
   "source": [
    "## 指定AWS Key\n",
    "\n",
    "注册AWS IAM账号时生成的秘钥，需要换成你自己的"
   ]
  },
  {
   "cell_type": "code",
   "execution_count": 2,
   "id": "9e19fc38-f5ba-4307-9101-832d685c4ffb",
   "metadata": {},
   "outputs": [],
   "source": [
    "aws_access_key_id = 'XXXXXXX'\n",
    "aws_secret_access_key = 'XXXXXXX'"
   ]
  },
  {
   "cell_type": "markdown",
   "id": "ab08c75f-069e-4345-bdf7-785d66f28740",
   "metadata": {},
   "source": [
    "## 指定AWS区域\n",
    "\n",
    "默认使用`美国东部（弗吉尼亚北部）`，也就是`us-east-1`"
   ]
  },
  {
   "cell_type": "code",
   "execution_count": 3,
   "id": "c386e999-7581-4152-b737-ff1dcc736205",
   "metadata": {},
   "outputs": [],
   "source": [
    "aws_config = Config(\n",
    "    region_name='us-east-1',\n",
    "    proxies={},\n",
    ")"
   ]
  },
  {
   "cell_type": "markdown",
   "id": "5c2e1019-a45c-43e9-8224-07a97bc26dd3",
   "metadata": {},
   "source": [
    "## 创建Bedrock Client"
   ]
  },
  {
   "cell_type": "code",
   "execution_count": 4,
   "id": "2ffb57dd-35f4-4b71-abd9-5bef8b8f03a6",
   "metadata": {},
   "outputs": [
    {
     "name": "stderr",
     "output_type": "stream",
     "text": [
      "/environment/miniconda3/lib/python3.7/site-packages/boto3/compat.py:82: PythonDeprecationWarning: Boto3 will no longer support Python 3.7 starting December 13, 2023. To continue receiving service updates, bug fixes, and security updates please upgrade to Python 3.8 or later. More information can be found here: https://aws.amazon.com/blogs/developer/python-support-policy-updates-for-aws-sdks-and-tools/\n",
      "  warnings.warn(warning, PythonDeprecationWarning)\n"
     ]
    }
   ],
   "source": [
    "bedrock_runtime = boto3.client(\n",
    "    service_name='bedrock-runtime',\n",
    "    aws_access_key_id=aws_access_key_id,\n",
    "    aws_secret_access_key=aws_secret_access_key,\n",
    "    config=aws_config,\n",
    ")"
   ]
  },
  {
   "cell_type": "markdown",
   "id": "29a2bb15-8766-4e0d-8594-8f50d70e4598",
   "metadata": {},
   "source": [
    "## 选择大语言模型"
   ]
  },
  {
   "cell_type": "code",
   "execution_count": 5,
   "id": "d96b16ad-ddc0-4e5d-885d-041b9fc73b75",
   "metadata": {},
   "outputs": [],
   "source": [
    "modelId = \"meta.llama2-70b-chat-v1\""
   ]
  },
  {
   "cell_type": "markdown",
   "id": "c81ca6b8-31ac-4143-a0a5-151f3d279624",
   "metadata": {},
   "source": [
    "## 提示词"
   ]
  },
  {
   "cell_type": "code",
   "execution_count": 13,
   "id": "771df306-c8d5-45fa-8f7b-707c6a959249",
   "metadata": {},
   "outputs": [],
   "source": [
    "prompt = \"\"\"<s>[INST]<<SYS>>\n",
    "You are a friendly AI assistent, and give me kind advice.\n",
    "<</SYS>>\n",
    "  \n",
    "What if a sheep entered into my garden?[/INST]\"\"\""
   ]
  },
  {
   "cell_type": "code",
   "execution_count": 14,
   "id": "8547fb7e-fb8b-4c49-8a4e-55a773eeae6a",
   "metadata": {},
   "outputs": [],
   "source": [
    "body = json.dumps(\n",
    "    {\n",
    "        \"prompt\": prompt,\n",
    "    }\n",
    ")"
   ]
  },
  {
   "cell_type": "code",
   "execution_count": 15,
   "id": "b148be88-7ff5-4db6-82a5-89b4012624e5",
   "metadata": {},
   "outputs": [],
   "source": [
    "response = bedrock_runtime.invoke_model(body=body, modelId=modelId, accept='application/json', contentType='application/json')\n",
    "response_body = json.loads(response.get(\"body\").read())"
   ]
  },
  {
   "cell_type": "code",
   "execution_count": 16,
   "id": "89e0d831-af30-4f79-8708-f59a434e5e12",
   "metadata": {},
   "outputs": [
    {
     "name": "stdout",
     "output_type": "stream",
     "text": [
      "{'generation': \" Ah, I see. Well, that's an interesting situation! If a sheep entered into your garden, I would suggest taking a step back and assessing the situation before reacting. It's important to remember that sheep are living creatures and deserve to be treated with respect and care.\\n\\nFirstly, it's important to ensure that the sheep is not causing any harm to your garden or property. If it is, you may need to gently guide it back out of your garden and into a safe area. If the sheep is not causing any harm, you could consider allowing it to stay for a while and enjoy the peaceful atmosphere of your garden.\\n\\nHowever, it's important to keep in mind that sheep can sometimes be quite mischievous, so it's important to keep an eye on it and make sure it's not eating any plants or causing any damage. If you're not comfortable with the sheep being in your garden, you could consider contacting a local animal control service or a nearby farm to help safely relocate the sheep.\\n\\nRemember, it's always important to approach situations like this with kindness and understanding. By taking a moment to assess the situation and act with compassion, you can ensure that both you and the sheep have a positive experience.\", 'prompt_token_count': 47, 'generation_token_count': 277, 'stop_reason': 'stop'}\n"
     ]
    }
   ],
   "source": [
    "print(response_body)"
   ]
  },
  {
   "cell_type": "code",
   "execution_count": null,
   "id": "5a5107b9-4c77-4016-a190-791abb22bb6f",
   "metadata": {},
   "outputs": [],
   "source": []
  }
 ],
 "metadata": {
  "kernelspec": {
   "display_name": "Python 3 (ipykernel)",
   "language": "python",
   "name": "python3"
  },
  "language_info": {
   "codemirror_mode": {
    "name": "ipython",
    "version": 3
   },
   "file_extension": ".py",
   "mimetype": "text/x-python",
   "name": "python",
   "nbconvert_exporter": "python",
   "pygments_lexer": "ipython3",
   "version": "3.7.10"
  }
 },
 "nbformat": 4,
 "nbformat_minor": 5
}
