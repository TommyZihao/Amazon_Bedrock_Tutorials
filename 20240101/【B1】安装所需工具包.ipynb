{
 "cells": [
  {
   "cell_type": "markdown",
   "id": "040decbb-2377-4a02-a3c0-7522ff1dd940",
   "metadata": {},
   "source": [
    "# 安装所需工具包\n",
    "\n",
    "同济子豪兄 2024-1-1"
   ]
  },
  {
   "cell_type": "markdown",
   "id": "0475d9cc-6bf1-446e-9832-2683ebbea780",
   "metadata": {},
   "source": [
    "## 安装所需工具包"
   ]
  },
  {
   "cell_type": "code",
   "execution_count": 4,
   "id": "a54b46da-f4a6-42ed-80bd-6b59178a20f0",
   "metadata": {},
   "outputs": [],
   "source": [
    "!pip install boto3 pillow -i https://pypi.tuna.tsinghua.edu.cn/simple"
   ]
  },
  {
   "cell_type": "markdown",
   "id": "a787143b-5c01-4c19-96b0-d0f5eb4e7ec5",
   "metadata": {},
   "source": [
    "## `boto3`工具包介绍"
   ]
  },
  {
   "cell_type": "markdown",
   "id": "214ea5e9-fa80-46ad-ac78-04e05a77f446",
   "metadata": {},
   "source": [
    "`boto3`是 AWS 的 Python SDK，你可以用 Python 创建、配置、管理AWS服务。\n",
    "\n",
    "比如：\n",
    "\n",
    "Amazon Elastic Compute Cloud (Amazon EC2)\n",
    "\n",
    "Amazon Simple Storage Service (Amazon S3)\n",
    "\n",
    "Amazon DynamoDB\n",
    "\n",
    "**Amazon Bedrock**"
   ]
  },
  {
   "cell_type": "markdown",
   "id": "6fe85791-8c3f-4569-9286-74beb7623819",
   "metadata": {},
   "source": [
    "## 验证安装成功"
   ]
  },
  {
   "cell_type": "code",
   "execution_count": 2,
   "id": "d3ef7d9e-459d-4c45-bd7a-acbbe7e42b2b",
   "metadata": {},
   "outputs": [],
   "source": [
    "import boto3\n",
    "import json\n",
    "from botocore.config import Config"
   ]
  },
  {
   "cell_type": "markdown",
   "id": "14a32bcd-df22-4fc1-bf00-967de26f27c4",
   "metadata": {},
   "source": [
    "## 创建`outputs`空文件夹，存放结果文件"
   ]
  },
  {
   "cell_type": "code",
   "execution_count": 3,
   "id": "b1ff2d83-219a-4131-8f9a-0866fd9dec2f",
   "metadata": {},
   "outputs": [],
   "source": [
    "import os\n",
    "os.mkdir('outputs')"
   ]
  },
  {
   "cell_type": "markdown",
   "id": "d021ddac-d9e1-4ff9-8154-10ec9ef65c9e",
   "metadata": {},
   "source": [
    "如果没有报错，则证明安装成功！"
   ]
  },
  {
   "cell_type": "code",
   "execution_count": null,
   "id": "95a7403e-62f8-4ae2-9889-b79ea6b5228d",
   "metadata": {},
   "outputs": [],
   "source": []
  }
 ],
 "metadata": {
  "kernelspec": {
   "display_name": "Python 3 (ipykernel)",
   "language": "python",
   "name": "python3"
  },
  "language_info": {
   "codemirror_mode": {
    "name": "ipython",
    "version": 3
   },
   "file_extension": ".py",
   "mimetype": "text/x-python",
   "name": "python",
   "nbconvert_exporter": "python",
   "pygments_lexer": "ipython3",
   "version": "3.7.10"
  }
 },
 "nbformat": 4,
 "nbformat_minor": 5
}
