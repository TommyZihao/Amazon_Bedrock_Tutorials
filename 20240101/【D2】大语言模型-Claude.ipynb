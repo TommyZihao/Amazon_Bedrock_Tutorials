{
 "cells": [
  {
   "cell_type": "markdown",
   "id": "792c0f0a-e5dc-4d7c-8cba-a40d4c96e96d",
   "metadata": {},
   "source": [
    "# 大语言模型-Claude\n",
    "\n",
    "同济子豪兄 2024-1-1"
   ]
  },
  {
   "cell_type": "markdown",
   "id": "99eb36d0-db40-4395-a1e0-6888f4faf015",
   "metadata": {},
   "source": [
    "## 官方文档\n",
    "\n",
    "https://docs.aws.amazon.com/bedrock/latest/userguide/titan-text-models.html"
   ]
  },
  {
   "cell_type": "markdown",
   "id": "32f64ced-ff46-4e2e-9350-fcaefaf09365",
   "metadata": {},
   "source": [
    "## 导入工具包"
   ]
  },
  {
   "cell_type": "code",
   "execution_count": 1,
   "id": "32df5782-e073-4011-86a6-c16b370c188a",
   "metadata": {},
   "outputs": [],
   "source": [
    "# Python 标准库\n",
    "import json\n",
    "\n",
    "# AWS 服务\n",
    "import boto3\n",
    "from botocore.config import Config"
   ]
  },
  {
   "cell_type": "markdown",
   "id": "df36a6bd-6373-410f-8db2-7d44a3e43398",
   "metadata": {},
   "source": [
    "## 指定AWS Key\n",
    "\n",
    "注册AWS IAM账号时生成的秘钥，需要换成你自己的"
   ]
  },
  {
   "cell_type": "code",
   "execution_count": 2,
   "id": "9e19fc38-f5ba-4307-9101-832d685c4ffb",
   "metadata": {},
   "outputs": [],
   "source": [
    "aws_access_key_id = 'XXXXXXX'\n",
    "aws_secret_access_key = 'XXXXXXX'"
   ]
  },
  {
   "cell_type": "markdown",
   "id": "ab08c75f-069e-4345-bdf7-785d66f28740",
   "metadata": {},
   "source": [
    "## 指定AWS区域\n",
    "\n",
    "默认使用`美国东部（弗吉尼亚北部）`，也就是`us-east-1`"
   ]
  },
  {
   "cell_type": "code",
   "execution_count": 3,
   "id": "c386e999-7581-4152-b737-ff1dcc736205",
   "metadata": {},
   "outputs": [],
   "source": [
    "aws_config = Config(\n",
    "    region_name='us-east-1',\n",
    "    proxies={},\n",
    ")"
   ]
  },
  {
   "cell_type": "markdown",
   "id": "5c2e1019-a45c-43e9-8224-07a97bc26dd3",
   "metadata": {},
   "source": [
    "## 创建Bedrock Client"
   ]
  },
  {
   "cell_type": "code",
   "execution_count": 4,
   "id": "2ffb57dd-35f4-4b71-abd9-5bef8b8f03a6",
   "metadata": {},
   "outputs": [
    {
     "name": "stderr",
     "output_type": "stream",
     "text": [
      "/environment/miniconda3/lib/python3.7/site-packages/boto3/compat.py:82: PythonDeprecationWarning: Boto3 will no longer support Python 3.7 starting December 13, 2023. To continue receiving service updates, bug fixes, and security updates please upgrade to Python 3.8 or later. More information can be found here: https://aws.amazon.com/blogs/developer/python-support-policy-updates-for-aws-sdks-and-tools/\n",
      "  warnings.warn(warning, PythonDeprecationWarning)\n"
     ]
    }
   ],
   "source": [
    "bedrock_runtime = boto3.client(\n",
    "    service_name='bedrock-runtime',\n",
    "    aws_access_key_id=aws_access_key_id,\n",
    "    aws_secret_access_key=aws_secret_access_key,\n",
    "    config=aws_config,\n",
    ")"
   ]
  },
  {
   "cell_type": "markdown",
   "id": "bd226a34-5394-4249-b107-ffc08fcc4a76",
   "metadata": {
    "tags": []
   },
   "source": [
    "## 选择大语言模型"
   ]
  },
  {
   "cell_type": "code",
   "execution_count": 5,
   "id": "d96b16ad-ddc0-4e5d-885d-041b9fc73b75",
   "metadata": {},
   "outputs": [],
   "source": [
    "modelId = \"anthropic.claude-v2:1\""
   ]
  },
  {
   "cell_type": "markdown",
   "id": "7287ad4f-f816-4054-bfb0-12b973149137",
   "metadata": {},
   "source": [
    "## 背景提示词（世界观设定）"
   ]
  },
  {
   "cell_type": "code",
   "execution_count": 6,
   "id": "8ea31e50-c080-4ed2-a3b8-897cff869d30",
   "metadata": {},
   "outputs": [],
   "source": [
    "system_prompt = \"\"\"让我们玩开放世界文本冒险游戏。你负责根据用户输入创建后续的游戏场景，以下是具体要求：\n",
    "1. 这个游戏没有结局，所以请避免创造一个结局。\n",
    "2. 在每一轮中，探索的过程要根据情景和上一轮的选择来想象。例如，“你进入了森林。这里又黑又诡异，什么地方都有可能跳出来奇怪的东西。你紧紧地握着手中的手枪，希望在这场冒险中找到一些食物”。\n",
    "3. 探索所得的材料要与探索过程高度相关，比如在海里抓鱼，在沼泽地里获取沼气。\n",
    "4. 你必须用一段话简短地描述每一轮的探索结果，内容包含探索的过程、探索所得的材料、探索的结果。\n",
    "5. 请在用户说“开始”之后创建初始场景。\n",
    "## 游戏背景 ##\n",
    "数个世纪以前，这片大陆曾是一个繁荣的文明的家园。这个文明拥有强大的魔法和科技，创造出了许多神奇的事物，其中包括能够操控自然力量的神秘水晶。然而，在一场古老的灾难中，大陆被分隔成数个孤立的岛屿，并被一道神秘的能量屏障所封锁。这导致了文明的崩溃，人们的知识和技术都消失得无影无踪。\n",
    "用户将扮演一位冒险家，听说在大陆的某个孤岛上，隐藏着一个传说中的古老遗迹，里面藏有能够打破能量屏障的秘密。用户的目标是探索这个孤岛，解开神秘谜团，寻找隐藏的线索，以揭示大陆背后的真相。\n",
    "孤岛上充满了危险和奇异的生物，神秘的魔法和古老的机关。用户需要通过与岛上居民互动、解开谜题、战胜怪物等方式，逐渐揭开大陆灾难的真相，并寻找能够打破能量屏障的方法。游戏的故事情节充满扭曲的时空线索和出乎意料的转折，用户的每个决定都将影响游戏的发展和结局。\n",
    "在探索的过程中，用户将收集各种资源、学习古老的魔法和技能，升级装备，以更好地应对岛上的挑战。同时，与岛上居民建立联系，听取他们的故事和建议，或许能够帮助用户更快地找到目标。\n",
    "\n",
    "\"\"\""
   ]
  },
  {
   "cell_type": "markdown",
   "id": "62d7adea-080e-42ad-b7c5-c448fe3880a4",
   "metadata": {},
   "source": [
    "## 之前的多轮对话提示词（人类用户和AI一问一答，并以AI回答作为结尾"
   ]
  },
  {
   "cell_type": "code",
   "execution_count": 7,
   "id": "02c8ef8d-682f-4d4c-8da6-193b2c0d517f",
   "metadata": {},
   "outputs": [],
   "source": [
    "msg_list = [\n",
    "    {\n",
    "        \"role\": \"User\",\n",
    "        \"content\": \"开始\",\n",
    "    },\n",
    "    {\n",
    "        \"role\": \"Bot\",\n",
    "        \"content\": \"\"\"你发现自己身处一个被茂密丛林覆盖的小岛上。阳光透过树叶洒在大地上，空气中弥漫着新鲜的植物气息。岛上的树木参差不齐，地面上长满了各种奇异的花草。\n",
    "你并不清楚自己是如何来到这个神秘的小岛的。唯一的线索是身边的一封古老信件，上面写着一位已故亲戚的名字，而信中提到了一个传说中的古老遗迹，藏匿在岛的深处。信件的最后，有一段文字：“只有真正的冒险者才能解开这个谜团，而你，将成为我们的希望”。\"\"\",\n",
    "    },\n",
    "    {\n",
    "        \"role\": \"User\",\n",
    "        \"content\": \"进入丛林寻找可能的线索\",\n",
    "    },\n",
    "    {\n",
    "        \"role\": \"Bot\",\n",
    "        \"content\": \"\"\"你决定进入丛林寻找线索。在丛林中，你发现了一些奇怪的痕迹，似乎是一种未知的生物留下的。你跟踪着这些痕迹，来到了一处空地。空地中央有一块石碑，上面刻着一些奇怪的符号。你仔细观察了一下，发现这些符号似乎是一种古老的文字，但你并不认识。\"\"\",\n",
    "    },\n",
    "]"
   ]
  },
  {
   "cell_type": "markdown",
   "id": "0bcb4b60-a945-4a6e-962e-ab0fcfd96e90",
   "metadata": {},
   "source": [
    "## 人类用户最新要说的提示词"
   ]
  },
  {
   "cell_type": "code",
   "execution_count": 8,
   "id": "fc54fe0d-d783-43fa-8b4b-80b7555b301d",
   "metadata": {},
   "outputs": [],
   "source": [
    "prompt = '寻找岛上的居民询问石碑的来历'"
   ]
  },
  {
   "cell_type": "markdown",
   "id": "6c5bf298-b5e7-4598-9647-d2f98b212ca6",
   "metadata": {},
   "source": [
    "## 调用Amazon Bedrock基础模型API，生成回复"
   ]
  },
  {
   "cell_type": "code",
   "execution_count": 9,
   "id": "5a985c08-734a-4705-a0bb-c1af20246f3b",
   "metadata": {},
   "outputs": [],
   "source": [
    "msg_list.append({\"role\": \"User\", \"content\": prompt})\n",
    "msg_list.append({\"role\": \"Bot\", \"content\": \"\"})"
   ]
  },
  {
   "cell_type": "code",
   "execution_count": 10,
   "id": "487dfc60-2f57-4557-9082-708d129592e8",
   "metadata": {},
   "outputs": [],
   "source": [
    "inputText = system_prompt + \"\\n\\n\".join(\n",
    "        map(\n",
    "            lambda x: f\"{'Human' if x['role'] == 'User' else 'Assistant'}: {x['content']}\",\n",
    "            msg_list,\n",
    "        )\n",
    "    )"
   ]
  },
  {
   "cell_type": "code",
   "execution_count": 11,
   "id": "1263ed2e-7f9f-437c-a72c-97bd89d2a6c2",
   "metadata": {},
   "outputs": [],
   "source": [
    "body = json.dumps(\n",
    "    {\n",
    "        \"prompt\": inputText,\n",
    "        \"temperature\": 0.5,\n",
    "        \"max_tokens_to_sample\": 1024,\n",
    "    }\n",
    ")"
   ]
  },
  {
   "cell_type": "code",
   "execution_count": 12,
   "id": "69267df2-aee8-4af5-964d-0be91f16fdbb",
   "metadata": {},
   "outputs": [],
   "source": [
    "response = bedrock_runtime.invoke_model(body=body, modelId=modelId, accept='application/json', contentType='application/json')\n",
    "response_body = json.loads(response.get(\"body\").read())\n",
    "outputText = response_body.get(\"completion\")"
   ]
  },
  {
   "cell_type": "markdown",
   "id": "2dc3d285-aac4-4004-a5aa-4e3af7a60c5d",
   "metadata": {},
   "source": [
    "## 查看最新回复"
   ]
  },
  {
   "cell_type": "code",
   "execution_count": 13,
   "id": "9b66d6ae-fe91-4abf-8cfe-4eafea765d98",
   "metadata": {},
   "outputs": [
    {
     "name": "stdout",
     "output_type": "stream",
     "text": [
      "Bot:  你决定离开丛林,试图寻找岛上是否有居民,来询问一下石碑的来历。在丛林边缘,你发现了一个小村落。村里居住着一群和蔼的村民,他们自称是这个岛上的原住民。\n",
      "\n",
      "当你询问石碑时,村民们显得有些惊讶。一个老者走上前来,说这个石碑记载了他们古老传说中的一个秘密地点,传说那里隐藏着能够改变世界的神器。但是具体位置一直是个谜,直到你发现了那块石碑。老者表示只有通过一系列试炼,才能解开石碑上的谜题,找到那神秘的地点。\n",
      "\n",
      "为了感谢你这个重大发现,村民们愿意提供一些帮助。你可以在村里购买一些装备,获得岛屿的地图等。接下来你要面临的选择是:直接踏上寻找神器的旅途,还是先做一些准备?\n"
     ]
    }
   ],
   "source": [
    "print(\"Bot:\", outputText)"
   ]
  },
  {
   "cell_type": "markdown",
   "id": "3d7c60e7-5e76-4dcc-b792-cd86ec8df2e9",
   "metadata": {},
   "source": [
    "## 新的多轮对话提示词"
   ]
  },
  {
   "cell_type": "code",
   "execution_count": 14,
   "id": "711f65a3-dea5-47cb-8d2e-adc97c4f1cd4",
   "metadata": {},
   "outputs": [],
   "source": [
    "msg_list[-1][\"content\"] = outputText"
   ]
  },
  {
   "cell_type": "code",
   "execution_count": 15,
   "id": "e945e4ad-4c57-4450-90f3-f5a363a71d71",
   "metadata": {},
   "outputs": [
    {
     "data": {
      "text/plain": [
       "[{'role': 'User', 'content': '开始'},\n",
       " {'role': 'Bot',\n",
       "  'content': '你发现自己身处一个被茂密丛林覆盖的小岛上。阳光透过树叶洒在大地上，空气中弥漫着新鲜的植物气息。岛上的树木参差不齐，地面上长满了各种奇异的花草。\\n你并不清楚自己是如何来到这个神秘的小岛的。唯一的线索是身边的一封古老信件，上面写着一位已故亲戚的名字，而信中提到了一个传说中的古老遗迹，藏匿在岛的深处。信件的最后，有一段文字：“只有真正的冒险者才能解开这个谜团，而你，将成为我们的希望”。'},\n",
       " {'role': 'User', 'content': '进入丛林寻找可能的线索'},\n",
       " {'role': 'Bot',\n",
       "  'content': '你决定进入丛林寻找线索。在丛林中，你发现了一些奇怪的痕迹，似乎是一种未知的生物留下的。你跟踪着这些痕迹，来到了一处空地。空地中央有一块石碑，上面刻着一些奇怪的符号。你仔细观察了一下，发现这些符号似乎是一种古老的文字，但你并不认识。'},\n",
       " {'role': 'User', 'content': '寻找岛上的居民询问石碑的来历'},\n",
       " {'role': 'Bot',\n",
       "  'content': ' 你决定离开丛林,试图寻找岛上是否有居民,来询问一下石碑的来历。在丛林边缘,你发现了一个小村落。村里居住着一群和蔼的村民,他们自称是这个岛上的原住民。\\n\\n当你询问石碑时,村民们显得有些惊讶。一个老者走上前来,说这个石碑记载了他们古老传说中的一个秘密地点,传说那里隐藏着能够改变世界的神器。但是具体位置一直是个谜,直到你发现了那块石碑。老者表示只有通过一系列试炼,才能解开石碑上的谜题,找到那神秘的地点。\\n\\n为了感谢你这个重大发现,村民们愿意提供一些帮助。你可以在村里购买一些装备,获得岛屿的地图等。接下来你要面临的选择是:直接踏上寻找神器的旅途,还是先做一些准备?'}]"
      ]
     },
     "execution_count": 15,
     "metadata": {},
     "output_type": "execute_result"
    }
   ],
   "source": [
    "msg_list"
   ]
  },
  {
   "cell_type": "code",
   "execution_count": null,
   "id": "7d6e7cb2-5070-473d-973e-4c2660c8fdbc",
   "metadata": {},
   "outputs": [],
   "source": []
  }
 ],
 "metadata": {
  "kernelspec": {
   "display_name": "Python 3 (ipykernel)",
   "language": "python",
   "name": "python3"
  },
  "language_info": {
   "codemirror_mode": {
    "name": "ipython",
    "version": 3
   },
   "file_extension": ".py",
   "mimetype": "text/x-python",
   "name": "python",
   "nbconvert_exporter": "python",
   "pygments_lexer": "ipython3",
   "version": "3.7.10"
  }
 },
 "nbformat": 4,
 "nbformat_minor": 5
}
